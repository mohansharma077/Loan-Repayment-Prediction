{
  "nbformat": 4,
  "nbformat_minor": 0,
  "metadata": {
    "colab": {
      "provenance": [],
      "authorship_tag": "ABX9TyMmMiz7D0p9PxvsAJl60njv"
    },
    "kernelspec": {
      "name": "python3",
      "display_name": "Python 3"
    },
    "language_info": {
      "name": "python"
    }
  },
  "cells": [
    {
      "cell_type": "code",
      "execution_count": 175,
      "metadata": {
        "id": "Cdk-TQCEU1Da"
      },
      "outputs": [],
      "source": []
    },
    {
      "cell_type": "markdown",
      "source": [
        "#loan repayment  Approval"
      ],
      "metadata": {
        "id": "DTlHF9WhU19s"
      }
    },
    {
      "cell_type": "code",
      "source": [],
      "metadata": {
        "id": "prYNOwj9U9mQ"
      },
      "execution_count": 175,
      "outputs": []
    },
    {
      "cell_type": "markdown",
      "source": [
        "# Predicting whether an applicant is capable of repaying a loan"
      ],
      "metadata": {
        "id": "MOLh4BUkW05L"
      }
    },
    {
      "cell_type": "code",
      "source": [],
      "metadata": {
        "id": "WquN9IBYW32Z"
      },
      "execution_count": 175,
      "outputs": []
    },
    {
      "cell_type": "markdown",
      "source": [
        "As a bank decides which applicants to provide loans, they may wish to predict if the applicant will default on the loan. Through automated feature engineering, we can identify the predictive patterns in the financial data that can be used to ensure that clients capable of repayment are not rejected."
      ],
      "metadata": {
        "id": "qJcdMsXKW-hN"
      }
    },
    {
      "cell_type": "code",
      "source": [],
      "metadata": {
        "id": "ENOaswFeXAAu"
      },
      "execution_count": 175,
      "outputs": []
    },
    {
      "cell_type": "markdown",
      "source": [
        "![loan.jpg](data:image/jpeg;base64,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)"
      ],
      "metadata": {
        "id": "Ii904GzBXY6S"
      }
    },
    {
      "cell_type": "code",
      "source": [],
      "metadata": {
        "id": "z-0al6C3XjQ1"
      },
      "execution_count": 175,
      "outputs": []
    },
    {
      "cell_type": "markdown",
      "source": [
        "Introduction"
      ],
      "metadata": {
        "id": "dBz1wCg-YaK_"
      }
    },
    {
      "cell_type": "code",
      "source": [],
      "metadata": {
        "id": "JhHmF0AVYcRf"
      },
      "execution_count": 175,
      "outputs": []
    },
    {
      "cell_type": "markdown",
      "source": [
        "The two most critical questions in the lending industry are: 1) How risky is the borrower? 2) Given the borrower’s risk, should we lend him/her? The answer to the first question determines the interest rate the borrower would have. Interest rate measures among other things (such as time value of money) the riskness of the borrower, i.e. the riskier the borrower, the higher the interest rate. With interest rate in mind, we can then determine if the borrower is eligible for the loan."
      ],
      "metadata": {
        "id": "EOFfE5ChYlAN"
      }
    },
    {
      "cell_type": "markdown",
      "source": [
        "Investors (lenders) provide loans to borrowers in exchange for the promise of repayment with interest. That means the lender only makes profit (interest) if the borrower pays off the loan. However, if he/she doesn’t repay the loan, then the lender loses money."
      ],
      "metadata": {
        "id": "cgZWGb68Yp4J"
      }
    },
    {
      "cell_type": "markdown",
      "source": [
        "We’ll be using publicly available data from LendingClub.com. The data covers the 9,578 loans funded by the platform between May 2007 and February 2010. The interest rate is provided to us for each borrower. Therefore, so we’ll address the second question indirectly by trying to predict if the borrower will repay the loan by its mature date or not."
      ],
      "metadata": {
        "id": "bqlQVtt2YrhX"
      }
    },
    {
      "cell_type": "code",
      "source": [],
      "metadata": {
        "id": "yniD_KzSYlpO"
      },
      "execution_count": 175,
      "outputs": []
    },
    {
      "cell_type": "markdown",
      "source": [
        "Below is a short description of each feature in the data set:\n",
        "\n",
        "credit_policy:\n",
        "1 if the customer meets the credit underwriting criteria of LendingClub.com, and 0 otherwise.\n",
        "\n",
        "purpose:\n",
        "The purpose of the loan such as: credit_card, debt_consolidation, etc.\n",
        "\n",
        "int_rate: \n",
        "The interest rate of the loan (proportion).\n",
        "\n",
        "installment:\n",
        "The monthly installments ($) owed by the borrower if the loan is funded.\n",
        "\n",
        "log_annual_inc:\n",
        "The natural log of the annual income of the borrower.\n",
        "\n",
        "\n",
        "dti: The debt-to-income ratio of the borrower.\n",
        "\n",
        "\n",
        "fico: The FICO credit score of the borrower.\n",
        "\n",
        "\n",
        "days_with_cr_line: The number of days the borrower has had a credit line.\n",
        "\n",
        "\n",
        "revol_bal: The borrower’s revolving balance.\n",
        "\n",
        "\n",
        "revol_util: The borrower’s revolving line utilization rate.\n",
        "\n",
        "\n",
        "inq_last_6mths: The borrower’s number of inquiries by creditors in the last 6 months.\n",
        "\n",
        "\n",
        "delinq_2yrs: The number of times the borrower had been 30+ days past due on a payment in the past 2 years.\n",
        "\n",
        "\n",
        "pub_rec: The borrower’s number of derogatory public records.\n",
        "\n",
        "\n",
        "not_fully_paid: indicates whether the loan was not paid back in full (the borrower either defaulted or the borrower was deemed unlikely to pay it back)."
      ],
      "metadata": {
        "id": "8aGDcTo-ZJHj"
      }
    },
    {
      "cell_type": "code",
      "source": [
        "import os\n",
        "\n",
        "import matplotlib.pyplot as plt\n",
        "import numpy as np\n",
        "import pandas as pd\n",
        "import seaborn as sns\n",
        "from imblearn.pipeline import make_pipeline as imb_make_pipeline\n",
        "from imblearn.over_sampling import RandomOverSampler, SMOTE\n",
        "from imblearn.under_sampling import RandomUnderSampler\n",
        "from sklearn.model_selection import train_test_split, cross_val_score, cross_val_predict\n",
        "from sklearn.preprocessing import  RobustScaler, FunctionTransformer,StandardScaler\n",
        "from sklearn.ensemble import RandomForestClassifier, VotingClassifier, GradientBoostingClassifier\n",
        "from sklearn.linear_model import LogisticRegression\n",
        "from sklearn.svm import SVC, LinearSVC\n",
        "from sklearn.neighbors import KNeighborsClassifier\n",
        "from sklearn.metrics import (roc_auc_score, confusion_matrix,\n",
        "                             accuracy_score, roc_curve,\n",
        "                             precision_recall_curve, f1_score)\n",
        "from sklearn.pipeline import make_pipeline\n",
        "import xgboost as xgb\n",
        "from keras import models, layers, optimizers\n",
        "from tensorflow import keras"
      ],
      "metadata": {
        "id": "Jq3uab-7bR5s"
      },
      "execution_count": 249,
      "outputs": []
    },
    {
      "cell_type": "code",
      "source": [
        "df=pd.read_csv('/content/loan_data.csv')\n",
        "df.head()"
      ],
      "metadata": {
        "colab": {
          "base_uri": "https://localhost:8080/",
          "height": 270
        },
        "id": "cRvLgnArZ06L",
        "outputId": "176dc338-188a-4c7b-9333-84dece57fa14"
      },
      "execution_count": 177,
      "outputs": [
        {
          "output_type": "execute_result",
          "data": {
            "text/plain": [
              "   credit.policy             purpose  int.rate  installment  log.annual.inc  \\\n",
              "0              1  debt_consolidation    0.1189       829.10       11.350407   \n",
              "1              1         credit_card    0.1071       228.22       11.082143   \n",
              "2              1  debt_consolidation    0.1357       366.86       10.373491   \n",
              "3              1  debt_consolidation    0.1008       162.34       11.350407   \n",
              "4              1         credit_card    0.1426       102.92       11.299732   \n",
              "\n",
              "     dti  fico  days.with.cr.line  revol.bal  revol.util  inq.last.6mths  \\\n",
              "0  19.48   737        5639.958333      28854        52.1               0   \n",
              "1  14.29   707        2760.000000      33623        76.7               0   \n",
              "2  11.63   682        4710.000000       3511        25.6               1   \n",
              "3   8.10   712        2699.958333      33667        73.2               1   \n",
              "4  14.97   667        4066.000000       4740        39.5               0   \n",
              "\n",
              "   delinq.2yrs  pub.rec  not.fully.paid  \n",
              "0            0        0               0  \n",
              "1            0        0               0  \n",
              "2            0        0               0  \n",
              "3            0        0               0  \n",
              "4            1        0               0  "
            ],
            "text/html": [
              "\n",
              "  <div id=\"df-c2f72673-6cd1-4458-8693-7b1965c9779f\">\n",
              "    <div class=\"colab-df-container\">\n",
              "      <div>\n",
              "<style scoped>\n",
              "    .dataframe tbody tr th:only-of-type {\n",
              "        vertical-align: middle;\n",
              "    }\n",
              "\n",
              "    .dataframe tbody tr th {\n",
              "        vertical-align: top;\n",
              "    }\n",
              "\n",
              "    .dataframe thead th {\n",
              "        text-align: right;\n",
              "    }\n",
              "</style>\n",
              "<table border=\"1\" class=\"dataframe\">\n",
              "  <thead>\n",
              "    <tr style=\"text-align: right;\">\n",
              "      <th></th>\n",
              "      <th>credit.policy</th>\n",
              "      <th>purpose</th>\n",
              "      <th>int.rate</th>\n",
              "      <th>installment</th>\n",
              "      <th>log.annual.inc</th>\n",
              "      <th>dti</th>\n",
              "      <th>fico</th>\n",
              "      <th>days.with.cr.line</th>\n",
              "      <th>revol.bal</th>\n",
              "      <th>revol.util</th>\n",
              "      <th>inq.last.6mths</th>\n",
              "      <th>delinq.2yrs</th>\n",
              "      <th>pub.rec</th>\n",
              "      <th>not.fully.paid</th>\n",
              "    </tr>\n",
              "  </thead>\n",
              "  <tbody>\n",
              "    <tr>\n",
              "      <th>0</th>\n",
              "      <td>1</td>\n",
              "      <td>debt_consolidation</td>\n",
              "      <td>0.1189</td>\n",
              "      <td>829.10</td>\n",
              "      <td>11.350407</td>\n",
              "      <td>19.48</td>\n",
              "      <td>737</td>\n",
              "      <td>5639.958333</td>\n",
              "      <td>28854</td>\n",
              "      <td>52.1</td>\n",
              "      <td>0</td>\n",
              "      <td>0</td>\n",
              "      <td>0</td>\n",
              "      <td>0</td>\n",
              "    </tr>\n",
              "    <tr>\n",
              "      <th>1</th>\n",
              "      <td>1</td>\n",
              "      <td>credit_card</td>\n",
              "      <td>0.1071</td>\n",
              "      <td>228.22</td>\n",
              "      <td>11.082143</td>\n",
              "      <td>14.29</td>\n",
              "      <td>707</td>\n",
              "      <td>2760.000000</td>\n",
              "      <td>33623</td>\n",
              "      <td>76.7</td>\n",
              "      <td>0</td>\n",
              "      <td>0</td>\n",
              "      <td>0</td>\n",
              "      <td>0</td>\n",
              "    </tr>\n",
              "    <tr>\n",
              "      <th>2</th>\n",
              "      <td>1</td>\n",
              "      <td>debt_consolidation</td>\n",
              "      <td>0.1357</td>\n",
              "      <td>366.86</td>\n",
              "      <td>10.373491</td>\n",
              "      <td>11.63</td>\n",
              "      <td>682</td>\n",
              "      <td>4710.000000</td>\n",
              "      <td>3511</td>\n",
              "      <td>25.6</td>\n",
              "      <td>1</td>\n",
              "      <td>0</td>\n",
              "      <td>0</td>\n",
              "      <td>0</td>\n",
              "    </tr>\n",
              "    <tr>\n",
              "      <th>3</th>\n",
              "      <td>1</td>\n",
              "      <td>debt_consolidation</td>\n",
              "      <td>0.1008</td>\n",
              "      <td>162.34</td>\n",
              "      <td>11.350407</td>\n",
              "      <td>8.10</td>\n",
              "      <td>712</td>\n",
              "      <td>2699.958333</td>\n",
              "      <td>33667</td>\n",
              "      <td>73.2</td>\n",
              "      <td>1</td>\n",
              "      <td>0</td>\n",
              "      <td>0</td>\n",
              "      <td>0</td>\n",
              "    </tr>\n",
              "    <tr>\n",
              "      <th>4</th>\n",
              "      <td>1</td>\n",
              "      <td>credit_card</td>\n",
              "      <td>0.1426</td>\n",
              "      <td>102.92</td>\n",
              "      <td>11.299732</td>\n",
              "      <td>14.97</td>\n",
              "      <td>667</td>\n",
              "      <td>4066.000000</td>\n",
              "      <td>4740</td>\n",
              "      <td>39.5</td>\n",
              "      <td>0</td>\n",
              "      <td>1</td>\n",
              "      <td>0</td>\n",
              "      <td>0</td>\n",
              "    </tr>\n",
              "  </tbody>\n",
              "</table>\n",
              "</div>\n",
              "      <button class=\"colab-df-convert\" onclick=\"convertToInteractive('df-c2f72673-6cd1-4458-8693-7b1965c9779f')\"\n",
              "              title=\"Convert this dataframe to an interactive table.\"\n",
              "              style=\"display:none;\">\n",
              "        \n",
              "  <svg xmlns=\"http://www.w3.org/2000/svg\" height=\"24px\"viewBox=\"0 0 24 24\"\n",
              "       width=\"24px\">\n",
              "    <path d=\"M0 0h24v24H0V0z\" fill=\"none\"/>\n",
              "    <path d=\"M18.56 5.44l.94 2.06.94-2.06 2.06-.94-2.06-.94-.94-2.06-.94 2.06-2.06.94zm-11 1L8.5 8.5l.94-2.06 2.06-.94-2.06-.94L8.5 2.5l-.94 2.06-2.06.94zm10 10l.94 2.06.94-2.06 2.06-.94-2.06-.94-.94-2.06-.94 2.06-2.06.94z\"/><path d=\"M17.41 7.96l-1.37-1.37c-.4-.4-.92-.59-1.43-.59-.52 0-1.04.2-1.43.59L10.3 9.45l-7.72 7.72c-.78.78-.78 2.05 0 2.83L4 21.41c.39.39.9.59 1.41.59.51 0 1.02-.2 1.41-.59l7.78-7.78 2.81-2.81c.8-.78.8-2.07 0-2.86zM5.41 20L4 18.59l7.72-7.72 1.47 1.35L5.41 20z\"/>\n",
              "  </svg>\n",
              "      </button>\n",
              "      \n",
              "  <style>\n",
              "    .colab-df-container {\n",
              "      display:flex;\n",
              "      flex-wrap:wrap;\n",
              "      gap: 12px;\n",
              "    }\n",
              "\n",
              "    .colab-df-convert {\n",
              "      background-color: #E8F0FE;\n",
              "      border: none;\n",
              "      border-radius: 50%;\n",
              "      cursor: pointer;\n",
              "      display: none;\n",
              "      fill: #1967D2;\n",
              "      height: 32px;\n",
              "      padding: 0 0 0 0;\n",
              "      width: 32px;\n",
              "    }\n",
              "\n",
              "    .colab-df-convert:hover {\n",
              "      background-color: #E2EBFA;\n",
              "      box-shadow: 0px 1px 2px rgba(60, 64, 67, 0.3), 0px 1px 3px 1px rgba(60, 64, 67, 0.15);\n",
              "      fill: #174EA6;\n",
              "    }\n",
              "\n",
              "    [theme=dark] .colab-df-convert {\n",
              "      background-color: #3B4455;\n",
              "      fill: #D2E3FC;\n",
              "    }\n",
              "\n",
              "    [theme=dark] .colab-df-convert:hover {\n",
              "      background-color: #434B5C;\n",
              "      box-shadow: 0px 1px 3px 1px rgba(0, 0, 0, 0.15);\n",
              "      filter: drop-shadow(0px 1px 2px rgba(0, 0, 0, 0.3));\n",
              "      fill: #FFFFFF;\n",
              "    }\n",
              "  </style>\n",
              "\n",
              "      <script>\n",
              "        const buttonEl =\n",
              "          document.querySelector('#df-c2f72673-6cd1-4458-8693-7b1965c9779f button.colab-df-convert');\n",
              "        buttonEl.style.display =\n",
              "          google.colab.kernel.accessAllowed ? 'block' : 'none';\n",
              "\n",
              "        async function convertToInteractive(key) {\n",
              "          const element = document.querySelector('#df-c2f72673-6cd1-4458-8693-7b1965c9779f');\n",
              "          const dataTable =\n",
              "            await google.colab.kernel.invokeFunction('convertToInteractive',\n",
              "                                                     [key], {});\n",
              "          if (!dataTable) return;\n",
              "\n",
              "          const docLinkHtml = 'Like what you see? Visit the ' +\n",
              "            '<a target=\"_blank\" href=https://colab.research.google.com/notebooks/data_table.ipynb>data table notebook</a>'\n",
              "            + ' to learn more about interactive tables.';\n",
              "          element.innerHTML = '';\n",
              "          dataTable['output_type'] = 'display_data';\n",
              "          await google.colab.output.renderOutput(dataTable, element);\n",
              "          const docLink = document.createElement('div');\n",
              "          docLink.innerHTML = docLinkHtml;\n",
              "          element.appendChild(docLink);\n",
              "        }\n",
              "      </script>\n",
              "    </div>\n",
              "  </div>\n",
              "  "
            ]
          },
          "metadata": {},
          "execution_count": 177
        }
      ]
    },
    {
      "cell_type": "code",
      "source": [
        "df.info()"
      ],
      "metadata": {
        "colab": {
          "base_uri": "https://localhost:8080/"
        },
        "id": "_a7Cs_qJbP_C",
        "outputId": "c575674c-e13e-4ff6-db6f-e29073848d53"
      },
      "execution_count": 178,
      "outputs": [
        {
          "output_type": "stream",
          "name": "stdout",
          "text": [
            "<class 'pandas.core.frame.DataFrame'>\n",
            "RangeIndex: 9578 entries, 0 to 9577\n",
            "Data columns (total 14 columns):\n",
            " #   Column             Non-Null Count  Dtype  \n",
            "---  ------             --------------  -----  \n",
            " 0   credit.policy      9578 non-null   int64  \n",
            " 1   purpose            9578 non-null   object \n",
            " 2   int.rate           9578 non-null   float64\n",
            " 3   installment        9578 non-null   float64\n",
            " 4   log.annual.inc     9578 non-null   float64\n",
            " 5   dti                9578 non-null   float64\n",
            " 6   fico               9578 non-null   int64  \n",
            " 7   days.with.cr.line  9578 non-null   float64\n",
            " 8   revol.bal          9578 non-null   int64  \n",
            " 9   revol.util         9578 non-null   float64\n",
            " 10  inq.last.6mths     9578 non-null   int64  \n",
            " 11  delinq.2yrs        9578 non-null   int64  \n",
            " 12  pub.rec            9578 non-null   int64  \n",
            " 13  not.fully.paid     9578 non-null   int64  \n",
            "dtypes: float64(6), int64(7), object(1)\n",
            "memory usage: 1.0+ MB\n"
          ]
        }
      ]
    },
    {
      "cell_type": "code",
      "source": [
        "df.shape"
      ],
      "metadata": {
        "colab": {
          "base_uri": "https://localhost:8080/"
        },
        "id": "oMFs_uUUcAeI",
        "outputId": "15ae5dab-5859-4d90-ee18-3d99002d44fd"
      },
      "execution_count": 179,
      "outputs": [
        {
          "output_type": "execute_result",
          "data": {
            "text/plain": [
              "(9578, 14)"
            ]
          },
          "metadata": {},
          "execution_count": 179
        }
      ]
    },
    {
      "cell_type": "code",
      "source": [
        "df.describe()"
      ],
      "metadata": {
        "colab": {
          "base_uri": "https://localhost:8080/",
          "height": 364
        },
        "id": "1cYtTdbBcEWL",
        "outputId": "da63cc06-495d-46cd-b575-2d8265b7ae13"
      },
      "execution_count": 180,
      "outputs": [
        {
          "output_type": "execute_result",
          "data": {
            "text/plain": [
              "       credit.policy     int.rate  installment  log.annual.inc          dti  \\\n",
              "count    9578.000000  9578.000000  9578.000000     9578.000000  9578.000000   \n",
              "mean        0.804970     0.122640   319.089413       10.932117    12.606679   \n",
              "std         0.396245     0.026847   207.071301        0.614813     6.883970   \n",
              "min         0.000000     0.060000    15.670000        7.547502     0.000000   \n",
              "25%         1.000000     0.103900   163.770000       10.558414     7.212500   \n",
              "50%         1.000000     0.122100   268.950000       10.928884    12.665000   \n",
              "75%         1.000000     0.140700   432.762500       11.291293    17.950000   \n",
              "max         1.000000     0.216400   940.140000       14.528354    29.960000   \n",
              "\n",
              "              fico  days.with.cr.line     revol.bal   revol.util  \\\n",
              "count  9578.000000        9578.000000  9.578000e+03  9578.000000   \n",
              "mean    710.846314        4560.767197  1.691396e+04    46.799236   \n",
              "std      37.970537        2496.930377  3.375619e+04    29.014417   \n",
              "min     612.000000         178.958333  0.000000e+00     0.000000   \n",
              "25%     682.000000        2820.000000  3.187000e+03    22.600000   \n",
              "50%     707.000000        4139.958333  8.596000e+03    46.300000   \n",
              "75%     737.000000        5730.000000  1.824950e+04    70.900000   \n",
              "max     827.000000       17639.958330  1.207359e+06   119.000000   \n",
              "\n",
              "       inq.last.6mths  delinq.2yrs      pub.rec  not.fully.paid  \n",
              "count     9578.000000  9578.000000  9578.000000     9578.000000  \n",
              "mean         1.577469     0.163708     0.062122        0.160054  \n",
              "std          2.200245     0.546215     0.262126        0.366676  \n",
              "min          0.000000     0.000000     0.000000        0.000000  \n",
              "25%          0.000000     0.000000     0.000000        0.000000  \n",
              "50%          1.000000     0.000000     0.000000        0.000000  \n",
              "75%          2.000000     0.000000     0.000000        0.000000  \n",
              "max         33.000000    13.000000     5.000000        1.000000  "
            ],
            "text/html": [
              "\n",
              "  <div id=\"df-f1432a98-22b2-4eaf-b1b8-19ef4acc114d\">\n",
              "    <div class=\"colab-df-container\">\n",
              "      <div>\n",
              "<style scoped>\n",
              "    .dataframe tbody tr th:only-of-type {\n",
              "        vertical-align: middle;\n",
              "    }\n",
              "\n",
              "    .dataframe tbody tr th {\n",
              "        vertical-align: top;\n",
              "    }\n",
              "\n",
              "    .dataframe thead th {\n",
              "        text-align: right;\n",
              "    }\n",
              "</style>\n",
              "<table border=\"1\" class=\"dataframe\">\n",
              "  <thead>\n",
              "    <tr style=\"text-align: right;\">\n",
              "      <th></th>\n",
              "      <th>credit.policy</th>\n",
              "      <th>int.rate</th>\n",
              "      <th>installment</th>\n",
              "      <th>log.annual.inc</th>\n",
              "      <th>dti</th>\n",
              "      <th>fico</th>\n",
              "      <th>days.with.cr.line</th>\n",
              "      <th>revol.bal</th>\n",
              "      <th>revol.util</th>\n",
              "      <th>inq.last.6mths</th>\n",
              "      <th>delinq.2yrs</th>\n",
              "      <th>pub.rec</th>\n",
              "      <th>not.fully.paid</th>\n",
              "    </tr>\n",
              "  </thead>\n",
              "  <tbody>\n",
              "    <tr>\n",
              "      <th>count</th>\n",
              "      <td>9578.000000</td>\n",
              "      <td>9578.000000</td>\n",
              "      <td>9578.000000</td>\n",
              "      <td>9578.000000</td>\n",
              "      <td>9578.000000</td>\n",
              "      <td>9578.000000</td>\n",
              "      <td>9578.000000</td>\n",
              "      <td>9.578000e+03</td>\n",
              "      <td>9578.000000</td>\n",
              "      <td>9578.000000</td>\n",
              "      <td>9578.000000</td>\n",
              "      <td>9578.000000</td>\n",
              "      <td>9578.000000</td>\n",
              "    </tr>\n",
              "    <tr>\n",
              "      <th>mean</th>\n",
              "      <td>0.804970</td>\n",
              "      <td>0.122640</td>\n",
              "      <td>319.089413</td>\n",
              "      <td>10.932117</td>\n",
              "      <td>12.606679</td>\n",
              "      <td>710.846314</td>\n",
              "      <td>4560.767197</td>\n",
              "      <td>1.691396e+04</td>\n",
              "      <td>46.799236</td>\n",
              "      <td>1.577469</td>\n",
              "      <td>0.163708</td>\n",
              "      <td>0.062122</td>\n",
              "      <td>0.160054</td>\n",
              "    </tr>\n",
              "    <tr>\n",
              "      <th>std</th>\n",
              "      <td>0.396245</td>\n",
              "      <td>0.026847</td>\n",
              "      <td>207.071301</td>\n",
              "      <td>0.614813</td>\n",
              "      <td>6.883970</td>\n",
              "      <td>37.970537</td>\n",
              "      <td>2496.930377</td>\n",
              "      <td>3.375619e+04</td>\n",
              "      <td>29.014417</td>\n",
              "      <td>2.200245</td>\n",
              "      <td>0.546215</td>\n",
              "      <td>0.262126</td>\n",
              "      <td>0.366676</td>\n",
              "    </tr>\n",
              "    <tr>\n",
              "      <th>min</th>\n",
              "      <td>0.000000</td>\n",
              "      <td>0.060000</td>\n",
              "      <td>15.670000</td>\n",
              "      <td>7.547502</td>\n",
              "      <td>0.000000</td>\n",
              "      <td>612.000000</td>\n",
              "      <td>178.958333</td>\n",
              "      <td>0.000000e+00</td>\n",
              "      <td>0.000000</td>\n",
              "      <td>0.000000</td>\n",
              "      <td>0.000000</td>\n",
              "      <td>0.000000</td>\n",
              "      <td>0.000000</td>\n",
              "    </tr>\n",
              "    <tr>\n",
              "      <th>25%</th>\n",
              "      <td>1.000000</td>\n",
              "      <td>0.103900</td>\n",
              "      <td>163.770000</td>\n",
              "      <td>10.558414</td>\n",
              "      <td>7.212500</td>\n",
              "      <td>682.000000</td>\n",
              "      <td>2820.000000</td>\n",
              "      <td>3.187000e+03</td>\n",
              "      <td>22.600000</td>\n",
              "      <td>0.000000</td>\n",
              "      <td>0.000000</td>\n",
              "      <td>0.000000</td>\n",
              "      <td>0.000000</td>\n",
              "    </tr>\n",
              "    <tr>\n",
              "      <th>50%</th>\n",
              "      <td>1.000000</td>\n",
              "      <td>0.122100</td>\n",
              "      <td>268.950000</td>\n",
              "      <td>10.928884</td>\n",
              "      <td>12.665000</td>\n",
              "      <td>707.000000</td>\n",
              "      <td>4139.958333</td>\n",
              "      <td>8.596000e+03</td>\n",
              "      <td>46.300000</td>\n",
              "      <td>1.000000</td>\n",
              "      <td>0.000000</td>\n",
              "      <td>0.000000</td>\n",
              "      <td>0.000000</td>\n",
              "    </tr>\n",
              "    <tr>\n",
              "      <th>75%</th>\n",
              "      <td>1.000000</td>\n",
              "      <td>0.140700</td>\n",
              "      <td>432.762500</td>\n",
              "      <td>11.291293</td>\n",
              "      <td>17.950000</td>\n",
              "      <td>737.000000</td>\n",
              "      <td>5730.000000</td>\n",
              "      <td>1.824950e+04</td>\n",
              "      <td>70.900000</td>\n",
              "      <td>2.000000</td>\n",
              "      <td>0.000000</td>\n",
              "      <td>0.000000</td>\n",
              "      <td>0.000000</td>\n",
              "    </tr>\n",
              "    <tr>\n",
              "      <th>max</th>\n",
              "      <td>1.000000</td>\n",
              "      <td>0.216400</td>\n",
              "      <td>940.140000</td>\n",
              "      <td>14.528354</td>\n",
              "      <td>29.960000</td>\n",
              "      <td>827.000000</td>\n",
              "      <td>17639.958330</td>\n",
              "      <td>1.207359e+06</td>\n",
              "      <td>119.000000</td>\n",
              "      <td>33.000000</td>\n",
              "      <td>13.000000</td>\n",
              "      <td>5.000000</td>\n",
              "      <td>1.000000</td>\n",
              "    </tr>\n",
              "  </tbody>\n",
              "</table>\n",
              "</div>\n",
              "      <button class=\"colab-df-convert\" onclick=\"convertToInteractive('df-f1432a98-22b2-4eaf-b1b8-19ef4acc114d')\"\n",
              "              title=\"Convert this dataframe to an interactive table.\"\n",
              "              style=\"display:none;\">\n",
              "        \n",
              "  <svg xmlns=\"http://www.w3.org/2000/svg\" height=\"24px\"viewBox=\"0 0 24 24\"\n",
              "       width=\"24px\">\n",
              "    <path d=\"M0 0h24v24H0V0z\" fill=\"none\"/>\n",
              "    <path d=\"M18.56 5.44l.94 2.06.94-2.06 2.06-.94-2.06-.94-.94-2.06-.94 2.06-2.06.94zm-11 1L8.5 8.5l.94-2.06 2.06-.94-2.06-.94L8.5 2.5l-.94 2.06-2.06.94zm10 10l.94 2.06.94-2.06 2.06-.94-2.06-.94-.94-2.06-.94 2.06-2.06.94z\"/><path d=\"M17.41 7.96l-1.37-1.37c-.4-.4-.92-.59-1.43-.59-.52 0-1.04.2-1.43.59L10.3 9.45l-7.72 7.72c-.78.78-.78 2.05 0 2.83L4 21.41c.39.39.9.59 1.41.59.51 0 1.02-.2 1.41-.59l7.78-7.78 2.81-2.81c.8-.78.8-2.07 0-2.86zM5.41 20L4 18.59l7.72-7.72 1.47 1.35L5.41 20z\"/>\n",
              "  </svg>\n",
              "      </button>\n",
              "      \n",
              "  <style>\n",
              "    .colab-df-container {\n",
              "      display:flex;\n",
              "      flex-wrap:wrap;\n",
              "      gap: 12px;\n",
              "    }\n",
              "\n",
              "    .colab-df-convert {\n",
              "      background-color: #E8F0FE;\n",
              "      border: none;\n",
              "      border-radius: 50%;\n",
              "      cursor: pointer;\n",
              "      display: none;\n",
              "      fill: #1967D2;\n",
              "      height: 32px;\n",
              "      padding: 0 0 0 0;\n",
              "      width: 32px;\n",
              "    }\n",
              "\n",
              "    .colab-df-convert:hover {\n",
              "      background-color: #E2EBFA;\n",
              "      box-shadow: 0px 1px 2px rgba(60, 64, 67, 0.3), 0px 1px 3px 1px rgba(60, 64, 67, 0.15);\n",
              "      fill: #174EA6;\n",
              "    }\n",
              "\n",
              "    [theme=dark] .colab-df-convert {\n",
              "      background-color: #3B4455;\n",
              "      fill: #D2E3FC;\n",
              "    }\n",
              "\n",
              "    [theme=dark] .colab-df-convert:hover {\n",
              "      background-color: #434B5C;\n",
              "      box-shadow: 0px 1px 3px 1px rgba(0, 0, 0, 0.15);\n",
              "      filter: drop-shadow(0px 1px 2px rgba(0, 0, 0, 0.3));\n",
              "      fill: #FFFFFF;\n",
              "    }\n",
              "  </style>\n",
              "\n",
              "      <script>\n",
              "        const buttonEl =\n",
              "          document.querySelector('#df-f1432a98-22b2-4eaf-b1b8-19ef4acc114d button.colab-df-convert');\n",
              "        buttonEl.style.display =\n",
              "          google.colab.kernel.accessAllowed ? 'block' : 'none';\n",
              "\n",
              "        async function convertToInteractive(key) {\n",
              "          const element = document.querySelector('#df-f1432a98-22b2-4eaf-b1b8-19ef4acc114d');\n",
              "          const dataTable =\n",
              "            await google.colab.kernel.invokeFunction('convertToInteractive',\n",
              "                                                     [key], {});\n",
              "          if (!dataTable) return;\n",
              "\n",
              "          const docLinkHtml = 'Like what you see? Visit the ' +\n",
              "            '<a target=\"_blank\" href=https://colab.research.google.com/notebooks/data_table.ipynb>data table notebook</a>'\n",
              "            + ' to learn more about interactive tables.';\n",
              "          element.innerHTML = '';\n",
              "          dataTable['output_type'] = 'display_data';\n",
              "          await google.colab.output.renderOutput(dataTable, element);\n",
              "          const docLink = document.createElement('div');\n",
              "          docLink.innerHTML = docLinkHtml;\n",
              "          element.appendChild(docLink);\n",
              "        }\n",
              "      </script>\n",
              "    </div>\n",
              "  </div>\n",
              "  "
            ]
          },
          "metadata": {},
          "execution_count": 180
        }
      ]
    },
    {
      "cell_type": "code",
      "source": [
        "df.columns.isna().sum()"
      ],
      "metadata": {
        "colab": {
          "base_uri": "https://localhost:8080/"
        },
        "id": "liR_S3jocGLk",
        "outputId": "a64ac496-d013-448f-a887-95c1d331a419"
      },
      "execution_count": 181,
      "outputs": [
        {
          "output_type": "execute_result",
          "data": {
            "text/plain": [
              "0"
            ]
          },
          "metadata": {},
          "execution_count": 181
        }
      ]
    },
    {
      "cell_type": "code",
      "source": [
        "df['days.with.cr.line'].isna().sum()\t"
      ],
      "metadata": {
        "colab": {
          "base_uri": "https://localhost:8080/"
        },
        "id": "8LrrKtn7cP-V",
        "outputId": "8ae38877-cabd-459e-b5d2-369023b31da2"
      },
      "execution_count": 182,
      "outputs": [
        {
          "output_type": "execute_result",
          "data": {
            "text/plain": [
              "0"
            ]
          },
          "metadata": {},
          "execution_count": 182
        }
      ]
    },
    {
      "cell_type": "code",
      "source": [
        "df['not.fully.paid'].value_counts()"
      ],
      "metadata": {
        "colab": {
          "base_uri": "https://localhost:8080/"
        },
        "id": "jLKtH_GicehZ",
        "outputId": "50cc9bc6-73f7-491c-84f5-68ba237268fc"
      },
      "execution_count": 183,
      "outputs": [
        {
          "output_type": "execute_result",
          "data": {
            "text/plain": [
              "0    8045\n",
              "1    1533\n",
              "Name: not.fully.paid, dtype: int64"
            ]
          },
          "metadata": {},
          "execution_count": 183
        }
      ]
    },
    {
      "cell_type": "code",
      "source": [
        "sns.countplot(x='not.fully.paid',data=df)"
      ],
      "metadata": {
        "colab": {
          "base_uri": "https://localhost:8080/",
          "height": 466
        },
        "id": "LmAJfXdShEyy",
        "outputId": "04ed249a-abdc-4325-e9d4-6a8688ca3783"
      },
      "execution_count": 184,
      "outputs": [
        {
          "output_type": "execute_result",
          "data": {
            "text/plain": [
              "<Axes: xlabel='not.fully.paid', ylabel='count'>"
            ]
          },
          "metadata": {},
          "execution_count": 184
        },
        {
          "output_type": "display_data",
          "data": {
            "text/plain": [
              "<Figure size 640x480 with 1 Axes>"
            ],
            "image/png": "[encoded data removed]"
          },
          "metadata": {}
        }
      ]
    },
    {
      "cell_type": "code",
      "source": [
        "paid=df[df['not.fully.paid']==0]\n",
        "not_paid=df[df['not.fully.paid']==1]\n"
      ],
      "metadata": {
        "id": "Yn22UozPcvsN"
      },
      "execution_count": 185,
      "outputs": []
    },
    {
      "cell_type": "code",
      "source": [
        "len(paid)"
      ],
      "metadata": {
        "colab": {
          "base_uri": "https://localhost:8080/"
        },
        "id": "W00uXPI4dF8H",
        "outputId": "d821c18e-3f28-4516-e2a2-9c40b5568766"
      },
      "execution_count": 186,
      "outputs": [
        {
          "output_type": "execute_result",
          "data": {
            "text/plain": [
              "8045"
            ]
          },
          "metadata": {},
          "execution_count": 186
        }
      ]
    },
    {
      "cell_type": "code",
      "source": [
        "len(not_paid)"
      ],
      "metadata": {
        "colab": {
          "base_uri": "https://localhost:8080/"
        },
        "id": "D9C-pNfQdVDu",
        "outputId": "3d4e9150-001e-48da-abc1-703620a6c61d"
      },
      "execution_count": 187,
      "outputs": [
        {
          "output_type": "execute_result",
          "data": {
            "text/plain": [
              "1533"
            ]
          },
          "metadata": {},
          "execution_count": 187
        }
      ]
    },
    {
      "cell_type": "code",
      "source": [
        "paid_per=round((len(paid)/df['not.fully.paid'].count()*100),2)\n",
        "not_paid_per=round((len(not_paid)/df['not.fully.paid'].count()*100),2)"
      ],
      "metadata": {
        "id": "XcAPzaScdaGe"
      },
      "execution_count": 188,
      "outputs": []
    },
    {
      "cell_type": "code",
      "source": [
        "df_per={'Class':['paid','not-paid'],'Percentage':[paid_per,not_paid_per]}\n",
        "df_percentage=pd.DataFrame(df_per)\n",
        "print(df_percentage)\n",
        "sns.barplot(x='Class',y='Percentage',data=df_percentage)"
      ],
      "metadata": {
        "colab": {
          "base_uri": "https://localhost:8080/",
          "height": 518
        },
        "id": "fV6E1FvQfrPD",
        "outputId": "c36b0bbb-36b3-4a73-da49-4ea5a5f69ba2"
      },
      "execution_count": 189,
      "outputs": [
        {
          "output_type": "stream",
          "name": "stdout",
          "text": [
            "      Class  Percentage\n",
            "0      paid       83.99\n",
            "1  not-paid       16.01\n"
          ]
        },
        {
          "output_type": "execute_result",
          "data": {
            "text/plain": [
              "<Axes: xlabel='Class', ylabel='Percentage'>"
            ]
          },
          "metadata": {},
          "execution_count": 189
        },
        {
          "output_type": "display_data",
          "data": {
            "text/plain": [
              "<Figure size 640x480 with 1 Axes>"
            ],
            "image/png": "[encoded data removed]"
          },
          "metadata": {}
        }
      ]
    },
    {
      "cell_type": "code",
      "source": [
        "plt.figure(figsize=(21,8))\n",
        "plot=sns.countplot(x='purpose',data=df)\n",
        "plt.xticks(rotation=90)\n",
        "for p in plot.patches:\n",
        "    plot.annotate(p.get_height(), \n",
        "                        (p.get_x() + p.get_width() / 2.0, \n",
        "                         p.get_height()), \n",
        "                        ha = 'center', \n",
        "                        va = 'center', \n",
        "                        xytext = (0, 5),\n",
        "                        textcoords = 'offset points')\n",
        "plt.xticks(rotation=45)\n",
        "plt.title(\"Count of lone based on purpose details\")\n",
        "plt.xlabel('Purpose of loans')\n",
        "plt.ylabel('count of loans based on purpose')\n",
        "plt.show()"
      ],
      "metadata": {
        "colab": {
          "base_uri": "https://localhost:8080/",
          "height": 570
        },
        "id": "jaFQCDiygTNd",
        "outputId": "9d8353a1-8b35-4c92-c42e-1e5ac7cc4d49"
      },
      "execution_count": 190,
      "outputs": [
        {
          "output_type": "display_data",
          "data": {
            "text/plain": [
              "<Figure size 2100x800 with 1 Axes>"
            ],
            "image/png": "[encoded data removed]"
          },
          "metadata": {}
        }
      ]
    },
    {
      "cell_type": "code",
      "source": [
        "import seaborn as sns\n",
        "purpose_counts = df['purpose'].value_counts()\n",
        "plt.figure(figsize=(8, 6))\n",
        "sns.set_palette(\"Set3\") \n",
        "plt.pie(purpose_counts, labels=purpose_counts.index, autopct='%1.1f%%')\n",
        "plt.axis('equal')  \n",
        "plt.title('Purpose Distribution')\n",
        "plt.show()\n"
      ],
      "metadata": {
        "colab": {
          "base_uri": "https://localhost:8080/",
          "height": 524
        },
        "id": "y9JYRdtbjda4",
        "outputId": "99268f51-0a60-4028-860b-ebfb7cd108db"
      },
      "execution_count": 191,
      "outputs": [
        {
          "output_type": "display_data",
          "data": {
            "text/plain": [
              "<Figure size 800x600 with 1 Axes>"
            ],
            "image/png": "[encoded data removed]"
          },
          "metadata": {}
        }
      ]
    },
    {
      "cell_type": "code",
      "source": [
        "dummies =pd.get_dummies(df['purpose'],prefix='purpose')\n",
        "df=pd.concat([df,dummies],axis=1)\n"
      ],
      "metadata": {
        "id": "F3VnVGYGwQXN"
      },
      "execution_count": 192,
      "outputs": []
    },
    {
      "cell_type": "code",
      "source": [
        "df = df.drop('purpose', axis=1)\n",
        "df"
      ],
      "metadata": {
        "colab": {
          "base_uri": "https://localhost:8080/",
          "height": 488
        },
        "id": "eZq9cV_0xb7M",
        "outputId": "f570103a-8ade-46f7-ea6b-7150953eac42"
      },
      "execution_count": 193,
      "outputs": [
        {
          "output_type": "execute_result",
          "data": {
            "text/plain": [
              "      credit.policy  int.rate  installment  log.annual.inc    dti  fico  \\\n",
              "0                 1    0.1189       829.10       11.350407  19.48   737   \n",
              "1                 1    0.1071       228.22       11.082143  14.29   707   \n",
              "2                 1    0.1357       366.86       10.373491  11.63   682   \n",
              "3                 1    0.1008       162.34       11.350407   8.10   712   \n",
              "4                 1    0.1426       102.92       11.299732  14.97   667   \n",
              "...             ...       ...          ...             ...    ...   ...   \n",
              "9573              0    0.1461       344.76       12.180755  10.39   672   \n",
              "9574              0    0.1253       257.70       11.141862   0.21   722   \n",
              "9575              0    0.1071        97.81       10.596635  13.09   687   \n",
              "9576              0    0.1600       351.58       10.819778  19.18   692   \n",
              "9577              0    0.1392       853.43       11.264464  16.28   732   \n",
              "\n",
              "      days.with.cr.line  revol.bal  revol.util  inq.last.6mths  delinq.2yrs  \\\n",
              "0           5639.958333      28854        52.1               0            0   \n",
              "1           2760.000000      33623        76.7               0            0   \n",
              "2           4710.000000       3511        25.6               1            0   \n",
              "3           2699.958333      33667        73.2               1            0   \n",
              "4           4066.000000       4740        39.5               0            1   \n",
              "...                 ...        ...         ...             ...          ...   \n",
              "9573       10474.000000     215372        82.1               2            0   \n",
              "9574        4380.000000        184         1.1               5            0   \n",
              "9575        3450.041667      10036        82.9               8            0   \n",
              "9576        1800.000000          0         3.2               5            0   \n",
              "9577        4740.000000      37879        57.0               6            0   \n",
              "\n",
              "      pub.rec  not.fully.paid  purpose_all_other  purpose_credit_card  \\\n",
              "0           0               0                  0                    0   \n",
              "1           0               0                  0                    1   \n",
              "2           0               0                  0                    0   \n",
              "3           0               0                  0                    0   \n",
              "4           0               0                  0                    1   \n",
              "...       ...             ...                ...                  ...   \n",
              "9573        0               1                  1                    0   \n",
              "9574        0               1                  1                    0   \n",
              "9575        0               1                  0                    0   \n",
              "9576        0               1                  0                    0   \n",
              "9577        0               1                  0                    0   \n",
              "\n",
              "      purpose_debt_consolidation  purpose_educational  \\\n",
              "0                              1                    0   \n",
              "1                              0                    0   \n",
              "2                              1                    0   \n",
              "3                              1                    0   \n",
              "4                              0                    0   \n",
              "...                          ...                  ...   \n",
              "9573                           0                    0   \n",
              "9574                           0                    0   \n",
              "9575                           1                    0   \n",
              "9576                           0                    0   \n",
              "9577                           1                    0   \n",
              "\n",
              "      purpose_home_improvement  purpose_major_purchase  purpose_small_business  \n",
              "0                            0                       0                       0  \n",
              "1                            0                       0                       0  \n",
              "2                            0                       0                       0  \n",
              "3                            0                       0                       0  \n",
              "4                            0                       0                       0  \n",
              "...                        ...                     ...                     ...  \n",
              "9573                         0                       0                       0  \n",
              "9574                         0                       0                       0  \n",
              "9575                         0                       0                       0  \n",
              "9576                         1                       0                       0  \n",
              "9577                         0                       0                       0  \n",
              "\n",
              "[9578 rows x 20 columns]"
            ],
            "text/html": [
              "\n",
              "  <div id=\"df-4c50fa54-723b-463d-94e8-83b0e554ce04\">\n",
              "    <div class=\"colab-df-container\">\n",
              "      <div>\n",
              "<style scoped>\n",
              "    .dataframe tbody tr th:only-of-type {\n",
              "        vertical-align: middle;\n",
              "    }\n",
              "\n",
              "    .dataframe tbody tr th {\n",
              "        vertical-align: top;\n",
              "    }\n",
              "\n",
              "    .dataframe thead th {\n",
              "        text-align: right;\n",
              "    }\n",
              "</style>\n",
              "<table border=\"1\" class=\"dataframe\">\n",
              "  <thead>\n",
              "    <tr style=\"text-align: right;\">\n",
              "      <th></th>\n",
              "      <th>credit.policy</th>\n",
              "      <th>int.rate</th>\n",
              "      <th>installment</th>\n",
              "      <th>log.annual.inc</th>\n",
              "      <th>dti</th>\n",
              "      <th>fico</th>\n",
              "      <th>days.with.cr.line</th>\n",
              "      <th>revol.bal</th>\n",
              "      <th>revol.util</th>\n",
              "      <th>inq.last.6mths</th>\n",
              "      <th>delinq.2yrs</th>\n",
              "      <th>pub.rec</th>\n",
              "      <th>not.fully.paid</th>\n",
              "      <th>purpose_all_other</th>\n",
              "      <th>purpose_credit_card</th>\n",
              "      <th>purpose_debt_consolidation</th>\n",
              "      <th>purpose_educational</th>\n",
              "      <th>purpose_home_improvement</th>\n",
              "      <th>purpose_major_purchase</th>\n",
              "      <th>purpose_small_business</th>\n",
              "    </tr>\n",
              "  </thead>\n",
              "  <tbody>\n",
              "    <tr>\n",
              "      <th>0</th>\n",
              "      <td>1</td>\n",
              "      <td>0.1189</td>\n",
              "      <td>829.10</td>\n",
              "      <td>11.350407</td>\n",
              "      <td>19.48</td>\n",
              "      <td>737</td>\n",
              "      <td>5639.958333</td>\n",
              "      <td>28854</td>\n",
              "      <td>52.1</td>\n",
              "      <td>0</td>\n",
              "      <td>0</td>\n",
              "      <td>0</td>\n",
              "      <td>0</td>\n",
              "      <td>0</td>\n",
              "      <td>0</td>\n",
              "      <td>1</td>\n",
              "      <td>0</td>\n",
              "      <td>0</td>\n",
              "      <td>0</td>\n",
              "      <td>0</td>\n",
              "    </tr>\n",
              "    <tr>\n",
              "      <th>1</th>\n",
              "      <td>1</td>\n",
              "      <td>0.1071</td>\n",
              "      <td>228.22</td>\n",
              "      <td>11.082143</td>\n",
              "      <td>14.29</td>\n",
              "      <td>707</td>\n",
              "      <td>2760.000000</td>\n",
              "      <td>33623</td>\n",
              "      <td>76.7</td>\n",
              "      <td>0</td>\n",
              "      <td>0</td>\n",
              "      <td>0</td>\n",
              "      <td>0</td>\n",
              "      <td>0</td>\n",
              "      <td>1</td>\n",
              "      <td>0</td>\n",
              "      <td>0</td>\n",
              "      <td>0</td>\n",
              "      <td>0</td>\n",
              "      <td>0</td>\n",
              "    </tr>\n",
              "    <tr>\n",
              "      <th>2</th>\n",
              "      <td>1</td>\n",
              "      <td>0.1357</td>\n",
              "      <td>366.86</td>\n",
              "      <td>10.373491</td>\n",
              "      <td>11.63</td>\n",
              "      <td>682</td>\n",
              "      <td>4710.000000</td>\n",
              "      <td>3511</td>\n",
              "      <td>25.6</td>\n",
              "      <td>1</td>\n",
              "      <td>0</td>\n",
              "      <td>0</td>\n",
              "      <td>0</td>\n",
              "      <td>0</td>\n",
              "      <td>0</td>\n",
              "      <td>1</td>\n",
              "      <td>0</td>\n",
              "      <td>0</td>\n",
              "      <td>0</td>\n",
              "      <td>0</td>\n",
              "    </tr>\n",
              "    <tr>\n",
              "      <th>3</th>\n",
              "      <td>1</td>\n",
              "      <td>0.1008</td>\n",
              "      <td>162.34</td>\n",
              "      <td>11.350407</td>\n",
              "      <td>8.10</td>\n",
              "      <td>712</td>\n",
              "      <td>2699.958333</td>\n",
              "      <td>33667</td>\n",
              "      <td>73.2</td>\n",
              "      <td>1</td>\n",
              "      <td>0</td>\n",
              "      <td>0</td>\n",
              "      <td>0</td>\n",
              "      <td>0</td>\n",
              "      <td>0</td>\n",
              "      <td>1</td>\n",
              "      <td>0</td>\n",
              "      <td>0</td>\n",
              "      <td>0</td>\n",
              "      <td>0</td>\n",
              "    </tr>\n",
              "    <tr>\n",
              "      <th>4</th>\n",
              "      <td>1</td>\n",
              "      <td>0.1426</td>\n",
              "      <td>102.92</td>\n",
              "      <td>11.299732</td>\n",
              "      <td>14.97</td>\n",
              "      <td>667</td>\n",
              "      <td>4066.000000</td>\n",
              "      <td>4740</td>\n",
              "      <td>39.5</td>\n",
              "      <td>0</td>\n",
              "      <td>1</td>\n",
              "      <td>0</td>\n",
              "      <td>0</td>\n",
              "      <td>0</td>\n",
              "      <td>1</td>\n",
              "      <td>0</td>\n",
              "      <td>0</td>\n",
              "      <td>0</td>\n",
              "      <td>0</td>\n",
              "      <td>0</td>\n",
              "    </tr>\n",
              "    <tr>\n",
              "      <th>...</th>\n",
              "      <td>...</td>\n",
              "      <td>...</td>\n",
              "      <td>...</td>\n",
              "      <td>...</td>\n",
              "      <td>...</td>\n",
              "      <td>...</td>\n",
              "      <td>...</td>\n",
              "      <td>...</td>\n",
              "      <td>...</td>\n",
              "      <td>...</td>\n",
              "      <td>...</td>\n",
              "      <td>...</td>\n",
              "      <td>...</td>\n",
              "      <td>...</td>\n",
              "      <td>...</td>\n",
              "      <td>...</td>\n",
              "      <td>...</td>\n",
              "      <td>...</td>\n",
              "      <td>...</td>\n",
              "      <td>...</td>\n",
              "    </tr>\n",
              "    <tr>\n",
              "      <th>9573</th>\n",
              "      <td>0</td>\n",
              "      <td>0.1461</td>\n",
              "      <td>344.76</td>\n",
              "      <td>12.180755</td>\n",
              "      <td>10.39</td>\n",
              "      <td>672</td>\n",
              "      <td>10474.000000</td>\n",
              "      <td>215372</td>\n",
              "      <td>82.1</td>\n",
              "      <td>2</td>\n",
              "      <td>0</td>\n",
              "      <td>0</td>\n",
              "      <td>1</td>\n",
              "      <td>1</td>\n",
              "      <td>0</td>\n",
              "      <td>0</td>\n",
              "      <td>0</td>\n",
              "      <td>0</td>\n",
              "      <td>0</td>\n",
              "      <td>0</td>\n",
              "    </tr>\n",
              "    <tr>\n",
              "      <th>9574</th>\n",
              "      <td>0</td>\n",
              "      <td>0.1253</td>\n",
              "      <td>257.70</td>\n",
              "      <td>11.141862</td>\n",
              "      <td>0.21</td>\n",
              "      <td>722</td>\n",
              "      <td>4380.000000</td>\n",
              "      <td>184</td>\n",
              "      <td>1.1</td>\n",
              "      <td>5</td>\n",
              "      <td>0</td>\n",
              "      <td>0</td>\n",
              "      <td>1</td>\n",
              "      <td>1</td>\n",
              "      <td>0</td>\n",
              "      <td>0</td>\n",
              "      <td>0</td>\n",
              "      <td>0</td>\n",
              "      <td>0</td>\n",
              "      <td>0</td>\n",
              "    </tr>\n",
              "    <tr>\n",
              "      <th>9575</th>\n",
              "      <td>0</td>\n",
              "      <td>0.1071</td>\n",
              "      <td>97.81</td>\n",
              "      <td>10.596635</td>\n",
              "      <td>13.09</td>\n",
              "      <td>687</td>\n",
              "      <td>3450.041667</td>\n",
              "      <td>10036</td>\n",
              "      <td>82.9</td>\n",
              "      <td>8</td>\n",
              "      <td>0</td>\n",
              "      <td>0</td>\n",
              "      <td>1</td>\n",
              "      <td>0</td>\n",
              "      <td>0</td>\n",
              "      <td>1</td>\n",
              "      <td>0</td>\n",
              "      <td>0</td>\n",
              "      <td>0</td>\n",
              "      <td>0</td>\n",
              "    </tr>\n",
              "    <tr>\n",
              "      <th>9576</th>\n",
              "      <td>0</td>\n",
              "      <td>0.1600</td>\n",
              "      <td>351.58</td>\n",
              "      <td>10.819778</td>\n",
              "      <td>19.18</td>\n",
              "      <td>692</td>\n",
              "      <td>1800.000000</td>\n",
              "      <td>0</td>\n",
              "      <td>3.2</td>\n",
              "      <td>5</td>\n",
              "      <td>0</td>\n",
              "      <td>0</td>\n",
              "      <td>1</td>\n",
              "      <td>0</td>\n",
              "      <td>0</td>\n",
              "      <td>0</td>\n",
              "      <td>0</td>\n",
              "      <td>1</td>\n",
              "      <td>0</td>\n",
              "      <td>0</td>\n",
              "    </tr>\n",
              "    <tr>\n",
              "      <th>9577</th>\n",
              "      <td>0</td>\n",
              "      <td>0.1392</td>\n",
              "      <td>853.43</td>\n",
              "      <td>11.264464</td>\n",
              "      <td>16.28</td>\n",
              "      <td>732</td>\n",
              "      <td>4740.000000</td>\n",
              "      <td>37879</td>\n",
              "      <td>57.0</td>\n",
              "      <td>6</td>\n",
              "      <td>0</td>\n",
              "      <td>0</td>\n",
              "      <td>1</td>\n",
              "      <td>0</td>\n",
              "      <td>0</td>\n",
              "      <td>1</td>\n",
              "      <td>0</td>\n",
              "      <td>0</td>\n",
              "      <td>0</td>\n",
              "      <td>0</td>\n",
              "    </tr>\n",
              "  </tbody>\n",
              "</table>\n",
              "<p>9578 rows × 20 columns</p>\n",
              "</div>\n",
              "      <button class=\"colab-df-convert\" onclick=\"convertToInteractive('df-4c50fa54-723b-463d-94e8-83b0e554ce04')\"\n",
              "              title=\"Convert this dataframe to an interactive table.\"\n",
              "              style=\"display:none;\">\n",
              "        \n",
              "  <svg xmlns=\"http://www.w3.org/2000/svg\" height=\"24px\"viewBox=\"0 0 24 24\"\n",
              "       width=\"24px\">\n",
              "    <path d=\"M0 0h24v24H0V0z\" fill=\"none\"/>\n",
              "    <path d=\"M18.56 5.44l.94 2.06.94-2.06 2.06-.94-2.06-.94-.94-2.06-.94 2.06-2.06.94zm-11 1L8.5 8.5l.94-2.06 2.06-.94-2.06-.94L8.5 2.5l-.94 2.06-2.06.94zm10 10l.94 2.06.94-2.06 2.06-.94-2.06-.94-.94-2.06-.94 2.06-2.06.94z\"/><path d=\"M17.41 7.96l-1.37-1.37c-.4-.4-.92-.59-1.43-.59-.52 0-1.04.2-1.43.59L10.3 9.45l-7.72 7.72c-.78.78-.78 2.05 0 2.83L4 21.41c.39.39.9.59 1.41.59.51 0 1.02-.2 1.41-.59l7.78-7.78 2.81-2.81c.8-.78.8-2.07 0-2.86zM5.41 20L4 18.59l7.72-7.72 1.47 1.35L5.41 20z\"/>\n",
              "  </svg>\n",
              "      </button>\n",
              "      \n",
              "  <style>\n",
              "    .colab-df-container {\n",
              "      display:flex;\n",
              "      flex-wrap:wrap;\n",
              "      gap: 12px;\n",
              "    }\n",
              "\n",
              "    .colab-df-convert {\n",
              "      background-color: #E8F0FE;\n",
              "      border: none;\n",
              "      border-radius: 50%;\n",
              "      cursor: pointer;\n",
              "      display: none;\n",
              "      fill: #1967D2;\n",
              "      height: 32px;\n",
              "      padding: 0 0 0 0;\n",
              "      width: 32px;\n",
              "    }\n",
              "\n",
              "    .colab-df-convert:hover {\n",
              "      background-color: #E2EBFA;\n",
              "      box-shadow: 0px 1px 2px rgba(60, 64, 67, 0.3), 0px 1px 3px 1px rgba(60, 64, 67, 0.15);\n",
              "      fill: #174EA6;\n",
              "    }\n",
              "\n",
              "    [theme=dark] .colab-df-convert {\n",
              "      background-color: #3B4455;\n",
              "      fill: #D2E3FC;\n",
              "    }\n",
              "\n",
              "    [theme=dark] .colab-df-convert:hover {\n",
              "      background-color: #434B5C;\n",
              "      box-shadow: 0px 1px 3px 1px rgba(0, 0, 0, 0.15);\n",
              "      filter: drop-shadow(0px 1px 2px rgba(0, 0, 0, 0.3));\n",
              "      fill: #FFFFFF;\n",
              "    }\n",
              "  </style>\n",
              "\n",
              "      <script>\n",
              "        const buttonEl =\n",
              "          document.querySelector('#df-4c50fa54-723b-463d-94e8-83b0e554ce04 button.colab-df-convert');\n",
              "        buttonEl.style.display =\n",
              "          google.colab.kernel.accessAllowed ? 'block' : 'none';\n",
              "\n",
              "        async function convertToInteractive(key) {\n",
              "          const element = document.querySelector('#df-4c50fa54-723b-463d-94e8-83b0e554ce04');\n",
              "          const dataTable =\n",
              "            await google.colab.kernel.invokeFunction('convertToInteractive',\n",
              "                                                     [key], {});\n",
              "          if (!dataTable) return;\n",
              "\n",
              "          const docLinkHtml = 'Like what you see? Visit the ' +\n",
              "            '<a target=\"_blank\" href=https://colab.research.google.com/notebooks/data_table.ipynb>data table notebook</a>'\n",
              "            + ' to learn more about interactive tables.';\n",
              "          element.innerHTML = '';\n",
              "          dataTable['output_type'] = 'display_data';\n",
              "          await google.colab.output.renderOutput(dataTable, element);\n",
              "          const docLink = document.createElement('div');\n",
              "          docLink.innerHTML = docLinkHtml;\n",
              "          element.appendChild(docLink);\n",
              "        }\n",
              "      </script>\n",
              "    </div>\n",
              "  </div>\n",
              "  "
            ]
          },
          "metadata": {},
          "execution_count": 193
        }
      ]
    },
    {
      "cell_type": "markdown",
      "source": [
        "## Is there a correlation between installment\t,log.annual.inc,\tdti,\tfico\t,days.with.cr.line,\trevol.bal,\trevol.util,\tinq.last.6mths,\tdelinq.2yrs,\tpub.rec   over not.paid.fully?"
      ],
      "metadata": {
        "id": "2WimQrIHkYlz"
      }
    },
    {
      "cell_type": "code",
      "source": [
        "correlation=df_corr.corr()\n",
        "correlation\n",
        "plt.figure(figsize=(12,8))\n",
        "plot=sns.heatmap(correlation,annot=True)\n",
        "plt.show()"
      ],
      "metadata": {
        "colab": {
          "base_uri": "https://localhost:8080/",
          "height": 780
        },
        "id": "1tpRvwipka3E",
        "outputId": "cb70b8f7-2d7a-43d2-f700-370b0473d25f"
      },
      "execution_count": 194,
      "outputs": [
        {
          "output_type": "display_data",
          "data": {
            "text/plain": [
              "<Figure size 1200x800 with 2 Axes>"
            ],
            "image/png": "[encoded data removed]"
          },
          "metadata": {}
        }
      ]
    },
    {
      "cell_type": "code",
      "source": [
        "df_corr"
      ],
      "metadata": {
        "colab": {
          "base_uri": "https://localhost:8080/",
          "height": 488
        },
        "id": "LPZ8bu4zoE35",
        "outputId": "ad15fb0f-3b07-49be-99a4-ae36c0e30fed"
      },
      "execution_count": 195,
      "outputs": [
        {
          "output_type": "execute_result",
          "data": {
            "text/plain": [
              "      credit.policy  int.rate  installment  log.annual.inc    dti  fico  \\\n",
              "0                 1    0.1189       829.10       11.350407  19.48   737   \n",
              "1                 1    0.1071       228.22       11.082143  14.29   707   \n",
              "2                 1    0.1357       366.86       10.373491  11.63   682   \n",
              "3                 1    0.1008       162.34       11.350407   8.10   712   \n",
              "4                 1    0.1426       102.92       11.299732  14.97   667   \n",
              "...             ...       ...          ...             ...    ...   ...   \n",
              "9573              0    0.1461       344.76       12.180755  10.39   672   \n",
              "9574              0    0.1253       257.70       11.141862   0.21   722   \n",
              "9575              0    0.1071        97.81       10.596635  13.09   687   \n",
              "9576              0    0.1600       351.58       10.819778  19.18   692   \n",
              "9577              0    0.1392       853.43       11.264464  16.28   732   \n",
              "\n",
              "      days.with.cr.line  revol.bal  revol.util  inq.last.6mths  delinq.2yrs  \\\n",
              "0           5639.958333      28854        52.1               0            0   \n",
              "1           2760.000000      33623        76.7               0            0   \n",
              "2           4710.000000       3511        25.6               1            0   \n",
              "3           2699.958333      33667        73.2               1            0   \n",
              "4           4066.000000       4740        39.5               0            1   \n",
              "...                 ...        ...         ...             ...          ...   \n",
              "9573       10474.000000     215372        82.1               2            0   \n",
              "9574        4380.000000        184         1.1               5            0   \n",
              "9575        3450.041667      10036        82.9               8            0   \n",
              "9576        1800.000000          0         3.2               5            0   \n",
              "9577        4740.000000      37879        57.0               6            0   \n",
              "\n",
              "      pub.rec  not.fully.paid  \n",
              "0           0               0  \n",
              "1           0               0  \n",
              "2           0               0  \n",
              "3           0               0  \n",
              "4           0               0  \n",
              "...       ...             ...  \n",
              "9573        0               1  \n",
              "9574        0               1  \n",
              "9575        0               1  \n",
              "9576        0               1  \n",
              "9577        0               1  \n",
              "\n",
              "[9578 rows x 13 columns]"
            ],
            "text/html": [
              "\n",
              "  <div id=\"df-3909c242-94d8-4b0c-bca1-3c09a0251063\">\n",
              "    <div class=\"colab-df-container\">\n",
              "      <div>\n",
              "<style scoped>\n",
              "    .dataframe tbody tr th:only-of-type {\n",
              "        vertical-align: middle;\n",
              "    }\n",
              "\n",
              "    .dataframe tbody tr th {\n",
              "        vertical-align: top;\n",
              "    }\n",
              "\n",
              "    .dataframe thead th {\n",
              "        text-align: right;\n",
              "    }\n",
              "</style>\n",
              "<table border=\"1\" class=\"dataframe\">\n",
              "  <thead>\n",
              "    <tr style=\"text-align: right;\">\n",
              "      <th></th>\n",
              "      <th>credit.policy</th>\n",
              "      <th>int.rate</th>\n",
              "      <th>installment</th>\n",
              "      <th>log.annual.inc</th>\n",
              "      <th>dti</th>\n",
              "      <th>fico</th>\n",
              "      <th>days.with.cr.line</th>\n",
              "      <th>revol.bal</th>\n",
              "      <th>revol.util</th>\n",
              "      <th>inq.last.6mths</th>\n",
              "      <th>delinq.2yrs</th>\n",
              "      <th>pub.rec</th>\n",
              "      <th>not.fully.paid</th>\n",
              "    </tr>\n",
              "  </thead>\n",
              "  <tbody>\n",
              "    <tr>\n",
              "      <th>0</th>\n",
              "      <td>1</td>\n",
              "      <td>0.1189</td>\n",
              "      <td>829.10</td>\n",
              "      <td>11.350407</td>\n",
              "      <td>19.48</td>\n",
              "      <td>737</td>\n",
              "      <td>5639.958333</td>\n",
              "      <td>28854</td>\n",
              "      <td>52.1</td>\n",
              "      <td>0</td>\n",
              "      <td>0</td>\n",
              "      <td>0</td>\n",
              "      <td>0</td>\n",
              "    </tr>\n",
              "    <tr>\n",
              "      <th>1</th>\n",
              "      <td>1</td>\n",
              "      <td>0.1071</td>\n",
              "      <td>228.22</td>\n",
              "      <td>11.082143</td>\n",
              "      <td>14.29</td>\n",
              "      <td>707</td>\n",
              "      <td>2760.000000</td>\n",
              "      <td>33623</td>\n",
              "      <td>76.7</td>\n",
              "      <td>0</td>\n",
              "      <td>0</td>\n",
              "      <td>0</td>\n",
              "      <td>0</td>\n",
              "    </tr>\n",
              "    <tr>\n",
              "      <th>2</th>\n",
              "      <td>1</td>\n",
              "      <td>0.1357</td>\n",
              "      <td>366.86</td>\n",
              "      <td>10.373491</td>\n",
              "      <td>11.63</td>\n",
              "      <td>682</td>\n",
              "      <td>4710.000000</td>\n",
              "      <td>3511</td>\n",
              "      <td>25.6</td>\n",
              "      <td>1</td>\n",
              "      <td>0</td>\n",
              "      <td>0</td>\n",
              "      <td>0</td>\n",
              "    </tr>\n",
              "    <tr>\n",
              "      <th>3</th>\n",
              "      <td>1</td>\n",
              "      <td>0.1008</td>\n",
              "      <td>162.34</td>\n",
              "      <td>11.350407</td>\n",
              "      <td>8.10</td>\n",
              "      <td>712</td>\n",
              "      <td>2699.958333</td>\n",
              "      <td>33667</td>\n",
              "      <td>73.2</td>\n",
              "      <td>1</td>\n",
              "      <td>0</td>\n",
              "      <td>0</td>\n",
              "      <td>0</td>\n",
              "    </tr>\n",
              "    <tr>\n",
              "      <th>4</th>\n",
              "      <td>1</td>\n",
              "      <td>0.1426</td>\n",
              "      <td>102.92</td>\n",
              "      <td>11.299732</td>\n",
              "      <td>14.97</td>\n",
              "      <td>667</td>\n",
              "      <td>4066.000000</td>\n",
              "      <td>4740</td>\n",
              "      <td>39.5</td>\n",
              "      <td>0</td>\n",
              "      <td>1</td>\n",
              "      <td>0</td>\n",
              "      <td>0</td>\n",
              "    </tr>\n",
              "    <tr>\n",
              "      <th>...</th>\n",
              "      <td>...</td>\n",
              "      <td>...</td>\n",
              "      <td>...</td>\n",
              "      <td>...</td>\n",
              "      <td>...</td>\n",
              "      <td>...</td>\n",
              "      <td>...</td>\n",
              "      <td>...</td>\n",
              "      <td>...</td>\n",
              "      <td>...</td>\n",
              "      <td>...</td>\n",
              "      <td>...</td>\n",
              "      <td>...</td>\n",
              "    </tr>\n",
              "    <tr>\n",
              "      <th>9573</th>\n",
              "      <td>0</td>\n",
              "      <td>0.1461</td>\n",
              "      <td>344.76</td>\n",
              "      <td>12.180755</td>\n",
              "      <td>10.39</td>\n",
              "      <td>672</td>\n",
              "      <td>10474.000000</td>\n",
              "      <td>215372</td>\n",
              "      <td>82.1</td>\n",
              "      <td>2</td>\n",
              "      <td>0</td>\n",
              "      <td>0</td>\n",
              "      <td>1</td>\n",
              "    </tr>\n",
              "    <tr>\n",
              "      <th>9574</th>\n",
              "      <td>0</td>\n",
              "      <td>0.1253</td>\n",
              "      <td>257.70</td>\n",
              "      <td>11.141862</td>\n",
              "      <td>0.21</td>\n",
              "      <td>722</td>\n",
              "      <td>4380.000000</td>\n",
              "      <td>184</td>\n",
              "      <td>1.1</td>\n",
              "      <td>5</td>\n",
              "      <td>0</td>\n",
              "      <td>0</td>\n",
              "      <td>1</td>\n",
              "    </tr>\n",
              "    <tr>\n",
              "      <th>9575</th>\n",
              "      <td>0</td>\n",
              "      <td>0.1071</td>\n",
              "      <td>97.81</td>\n",
              "      <td>10.596635</td>\n",
              "      <td>13.09</td>\n",
              "      <td>687</td>\n",
              "      <td>3450.041667</td>\n",
              "      <td>10036</td>\n",
              "      <td>82.9</td>\n",
              "      <td>8</td>\n",
              "      <td>0</td>\n",
              "      <td>0</td>\n",
              "      <td>1</td>\n",
              "    </tr>\n",
              "    <tr>\n",
              "      <th>9576</th>\n",
              "      <td>0</td>\n",
              "      <td>0.1600</td>\n",
              "      <td>351.58</td>\n",
              "      <td>10.819778</td>\n",
              "      <td>19.18</td>\n",
              "      <td>692</td>\n",
              "      <td>1800.000000</td>\n",
              "      <td>0</td>\n",
              "      <td>3.2</td>\n",
              "      <td>5</td>\n",
              "      <td>0</td>\n",
              "      <td>0</td>\n",
              "      <td>1</td>\n",
              "    </tr>\n",
              "    <tr>\n",
              "      <th>9577</th>\n",
              "      <td>0</td>\n",
              "      <td>0.1392</td>\n",
              "      <td>853.43</td>\n",
              "      <td>11.264464</td>\n",
              "      <td>16.28</td>\n",
              "      <td>732</td>\n",
              "      <td>4740.000000</td>\n",
              "      <td>37879</td>\n",
              "      <td>57.0</td>\n",
              "      <td>6</td>\n",
              "      <td>0</td>\n",
              "      <td>0</td>\n",
              "      <td>1</td>\n",
              "    </tr>\n",
              "  </tbody>\n",
              "</table>\n",
              "<p>9578 rows × 13 columns</p>\n",
              "</div>\n",
              "      <button class=\"colab-df-convert\" onclick=\"convertToInteractive('df-3909c242-94d8-4b0c-bca1-3c09a0251063')\"\n",
              "              title=\"Convert this dataframe to an interactive table.\"\n",
              "              style=\"display:none;\">\n",
              "        \n",
              "  <svg xmlns=\"http://www.w3.org/2000/svg\" height=\"24px\"viewBox=\"0 0 24 24\"\n",
              "       width=\"24px\">\n",
              "    <path d=\"M0 0h24v24H0V0z\" fill=\"none\"/>\n",
              "    <path d=\"M18.56 5.44l.94 2.06.94-2.06 2.06-.94-2.06-.94-.94-2.06-.94 2.06-2.06.94zm-11 1L8.5 8.5l.94-2.06 2.06-.94-2.06-.94L8.5 2.5l-.94 2.06-2.06.94zm10 10l.94 2.06.94-2.06 2.06-.94-2.06-.94-.94-2.06-.94 2.06-2.06.94z\"/><path d=\"M17.41 7.96l-1.37-1.37c-.4-.4-.92-.59-1.43-.59-.52 0-1.04.2-1.43.59L10.3 9.45l-7.72 7.72c-.78.78-.78 2.05 0 2.83L4 21.41c.39.39.9.59 1.41.59.51 0 1.02-.2 1.41-.59l7.78-7.78 2.81-2.81c.8-.78.8-2.07 0-2.86zM5.41 20L4 18.59l7.72-7.72 1.47 1.35L5.41 20z\"/>\n",
              "  </svg>\n",
              "      </button>\n",
              "      \n",
              "  <style>\n",
              "    .colab-df-container {\n",
              "      display:flex;\n",
              "      flex-wrap:wrap;\n",
              "      gap: 12px;\n",
              "    }\n",
              "\n",
              "    .colab-df-convert {\n",
              "      background-color: #E8F0FE;\n",
              "      border: none;\n",
              "      border-radius: 50%;\n",
              "      cursor: pointer;\n",
              "      display: none;\n",
              "      fill: #1967D2;\n",
              "      height: 32px;\n",
              "      padding: 0 0 0 0;\n",
              "      width: 32px;\n",
              "    }\n",
              "\n",
              "    .colab-df-convert:hover {\n",
              "      background-color: #E2EBFA;\n",
              "      box-shadow: 0px 1px 2px rgba(60, 64, 67, 0.3), 0px 1px 3px 1px rgba(60, 64, 67, 0.15);\n",
              "      fill: #174EA6;\n",
              "    }\n",
              "\n",
              "    [theme=dark] .colab-df-convert {\n",
              "      background-color: #3B4455;\n",
              "      fill: #D2E3FC;\n",
              "    }\n",
              "\n",
              "    [theme=dark] .colab-df-convert:hover {\n",
              "      background-color: #434B5C;\n",
              "      box-shadow: 0px 1px 3px 1px rgba(0, 0, 0, 0.15);\n",
              "      filter: drop-shadow(0px 1px 2px rgba(0, 0, 0, 0.3));\n",
              "      fill: #FFFFFF;\n",
              "    }\n",
              "  </style>\n",
              "\n",
              "      <script>\n",
              "        const buttonEl =\n",
              "          document.querySelector('#df-3909c242-94d8-4b0c-bca1-3c09a0251063 button.colab-df-convert');\n",
              "        buttonEl.style.display =\n",
              "          google.colab.kernel.accessAllowed ? 'block' : 'none';\n",
              "\n",
              "        async function convertToInteractive(key) {\n",
              "          const element = document.querySelector('#df-3909c242-94d8-4b0c-bca1-3c09a0251063');\n",
              "          const dataTable =\n",
              "            await google.colab.kernel.invokeFunction('convertToInteractive',\n",
              "                                                     [key], {});\n",
              "          if (!dataTable) return;\n",
              "\n",
              "          const docLinkHtml = 'Like what you see? Visit the ' +\n",
              "            '<a target=\"_blank\" href=https://colab.research.google.com/notebooks/data_table.ipynb>data table notebook</a>'\n",
              "            + ' to learn more about interactive tables.';\n",
              "          element.innerHTML = '';\n",
              "          dataTable['output_type'] = 'display_data';\n",
              "          await google.colab.output.renderOutput(dataTable, element);\n",
              "          const docLink = document.createElement('div');\n",
              "          docLink.innerHTML = docLinkHtml;\n",
              "          element.appendChild(docLink);\n",
              "        }\n",
              "      </script>\n",
              "    </div>\n",
              "  </div>\n",
              "  "
            ]
          },
          "metadata": {},
          "execution_count": 195
        }
      ]
    },
    {
      "cell_type": "markdown",
      "source": [
        "# What are the top two factors  for not paid fully?"
      ],
      "metadata": {
        "id": "tCLREtJSmrZ8"
      }
    },
    {
      "cell_type": "code",
      "source": [
        "failed_corr=correlation['not.fully.paid']\n",
        "sorted_corr=failed_corr.sort_values(ascending=False)\n",
        "top_factors=sorted_corr[1:4]\n",
        "print(f'top factors for loan not fully paid :')\n",
        "print(top_factors)"
      ],
      "metadata": {
        "colab": {
          "base_uri": "https://localhost:8080/"
        },
        "id": "ixyqM-5wmwzD",
        "outputId": "6b9b6adc-b585-42d3-93bb-27f160030298"
      },
      "execution_count": 196,
      "outputs": [
        {
          "output_type": "stream",
          "name": "stdout",
          "text": [
            "top factors for loan not fully paid :\n",
            "int.rate          0.159552\n",
            "inq.last.6mths    0.149452\n",
            "revol.util        0.082088\n",
            "Name: not.fully.paid, dtype: float64\n"
          ]
        }
      ]
    },
    {
      "cell_type": "code",
      "source": [],
      "metadata": {
        "id": "RjEGQjF1ntCR"
      },
      "execution_count": 196,
      "outputs": []
    },
    {
      "cell_type": "markdown",
      "source": [
        "We can show that top most factors for unable to repay loan by customers is actually interest rate and inq of last 6 monts."
      ],
      "metadata": {
        "id": "VDTKJGOvob3i"
      }
    },
    {
      "cell_type": "code",
      "source": [],
      "metadata": {
        "id": "Ppw16-gJoqQm"
      },
      "execution_count": 196,
      "outputs": []
    },
    {
      "cell_type": "markdown",
      "source": [
        "# For which  Purposes of loans are likely to be not paid in Future?\n"
      ],
      "metadata": {
        "id": "6ou5lP_4o_WQ"
      }
    },
    {
      "cell_type": "code",
      "source": [
        "for feature in df.columns:\n",
        "  if np.any(np.isnan(df[feature])):\n",
        "    df[\"is_\" + feature + \"_missing\"] = np.isnan(df[feature]) * 1\n",
        "    print(feature)"
      ],
      "metadata": {
        "id": "8EPqdlbRpS1e"
      },
      "execution_count": 197,
      "outputs": []
    },
    {
      "cell_type": "code",
      "source": [
        "\n",
        "X = df.drop('not.fully.paid', axis=1)\n",
        "y = df['not.fully.paid']\n",
        "\n",
        "# Splitting the data into training and testing sets\n",
        "X_train, X_test, y_train, y_test = train_test_split(X, y, test_size=0.2, random_state=42)"
      ],
      "metadata": {
        "id": "fulxkQeAzbFe"
      },
      "execution_count": 212,
      "outputs": []
    },
    {
      "cell_type": "code",
      "source": [
        "y_train.shape"
      ],
      "metadata": {
        "colab": {
          "base_uri": "https://localhost:8080/"
        },
        "id": "RgPnE5OG6jzZ",
        "outputId": "139608de-5d54-4b5d-8e3e-6c350cbfdffc"
      },
      "execution_count": 215,
      "outputs": [
        {
          "output_type": "execute_result",
          "data": {
            "text/plain": [
              "(7662,)"
            ]
          },
          "metadata": {},
          "execution_count": 215
        }
      ]
    },
    {
      "cell_type": "code",
      "source": [
        "\n",
        "print(f\"Original data shapes: {X_train.shape, X_test.shape}\")\n",
        "\n",
        "print(f\"Original data shapes: {y_train.shape, y_test.shape}\")"
      ],
      "metadata": {
        "colab": {
          "base_uri": "https://localhost:8080/"
        },
        "id": "vjXi--4U58RD",
        "outputId": "0019c92b-cd9e-4dee-f2ba-192de6321530"
      },
      "execution_count": 217,
      "outputs": [
        {
          "output_type": "stream",
          "name": "stdout",
          "text": [
            "Original data shapes: ((7662, 19), (1916, 19))\n",
            "Original data shapes: ((7662,), (1916,))\n"
          ]
        }
      ]
    },
    {
      "cell_type": "code",
      "source": [],
      "metadata": {
        "id": "6_im4_p40JL-"
      },
      "execution_count": 217,
      "outputs": []
    },
    {
      "cell_type": "code",
      "source": [
        "scalar=StandardScaler()"
      ],
      "metadata": {
        "id": "KQ10IqBV0QGq"
      },
      "execution_count": 218,
      "outputs": []
    },
    {
      "cell_type": "code",
      "source": [],
      "metadata": {
        "id": "pZ2ZJtwF5jOs"
      },
      "execution_count": 218,
      "outputs": []
    },
    {
      "cell_type": "code",
      "source": [
        "X_train=scalar.fit_transform(X_train)\n",
        "X_test=scalar.fit_transform(X_test)\n"
      ],
      "metadata": {
        "id": "HCubOd1_0mH2"
      },
      "execution_count": 220,
      "outputs": []
    },
    {
      "cell_type": "code",
      "source": [
        "model=keras.Sequential([\n",
        "    keras.layers.Dense(256,activation=\"relu\",input_shape=[19]),\n",
        "\n",
        "    keras.layers.Dense(256,activation=\"relu\"),\n",
        "    keras.layers.Dropout(0.3),\n",
        "    keras.layers.Dense(256,activation=\"relu\"),\n",
        "    keras.layers.Dropout(0.3),\n",
        "    keras.layers.Dense(1,activation=\"sigmoid\"),\n",
        "\n",
        "]\n",
        "    \n",
        ")\n",
        "model.summary()"
      ],
      "metadata": {
        "colab": {
          "base_uri": "https://localhost:8080/"
        },
        "id": "RP3zaoo712dF",
        "outputId": "ece8aa40-77cc-4b2a-9794-d0d1909f4ed2"
      },
      "execution_count": 221,
      "outputs": [
        {
          "output_type": "stream",
          "name": "stdout",
          "text": [
            "Model: \"sequential_3\"\n",
            "_________________________________________________________________\n",
            " Layer (type)                Output Shape              Param #   \n",
            "=================================================================\n",
            " dense_12 (Dense)            (None, 256)               5120      \n",
            "                                                                 \n",
            " dense_13 (Dense)            (None, 256)               65792     \n",
            "                                                                 \n",
            " dropout_6 (Dropout)         (None, 256)               0         \n",
            "                                                                 \n",
            " dense_14 (Dense)            (None, 256)               65792     \n",
            "                                                                 \n",
            " dropout_7 (Dropout)         (None, 256)               0         \n",
            "                                                                 \n",
            " dense_15 (Dense)            (None, 1)                 257       \n",
            "                                                                 \n",
            "=================================================================\n",
            "Total params: 136,961\n",
            "Trainable params: 136,961\n",
            "Non-trainable params: 0\n",
            "_________________________________________________________________\n"
          ]
        }
      ]
    },
    {
      "cell_type": "code",
      "source": [
        "model.compile(optimizer='Adam',\n",
        "               loss=\"binary_crossentropy\",\n",
        "               metrics=['binary_accuracy'])"
      ],
      "metadata": {
        "id": "-utjnkHV3LLf"
      },
      "execution_count": 225,
      "outputs": []
    },
    {
      "cell_type": "code",
      "source": [
        "early_stopping = keras.callbacks.EarlyStopping(patience = 10, min_delta = 0.001, \n",
        "                                               restore_best_weights =True )"
      ],
      "metadata": {
        "id": "WkkUM8Mo3zNY"
      },
      "execution_count": 226,
      "outputs": []
    },
    {
      "cell_type": "code",
      "source": [
        "history=model.fit(\n",
        "    X_train,y_train,\n",
        "    validation_data=(X_test,y_test),\n",
        "    batch_size=256,\n",
        "    epochs=100,\n",
        "    callbacks=[early_stopping],\n",
        "    verbose=1, \n",
        ")"
      ],
      "metadata": {
        "colab": {
          "base_uri": "https://localhost:8080/"
        },
        "id": "1lefNad933q7",
        "outputId": "fc00a8a0-4536-449d-bcf0-00d24cb1ff04"
      },
      "execution_count": 229,
      "outputs": [
        {
          "output_type": "stream",
          "name": "stdout",
          "text": [
            "Epoch 1/100\n",
            "30/30 [==============================] - 0s 16ms/step - loss: 0.4075 - binary_accuracy: 0.8406 - val_loss: 0.4016 - val_binary_accuracy: 0.8408\n",
            "Epoch 2/100\n",
            "30/30 [==============================] - 0s 14ms/step - loss: 0.4070 - binary_accuracy: 0.8403 - val_loss: 0.4027 - val_binary_accuracy: 0.8398\n",
            "Epoch 3/100\n",
            "30/30 [==============================] - 0s 15ms/step - loss: 0.4040 - binary_accuracy: 0.8406 - val_loss: 0.4044 - val_binary_accuracy: 0.8403\n",
            "Epoch 4/100\n",
            "30/30 [==============================] - 0s 14ms/step - loss: 0.3993 - binary_accuracy: 0.8425 - val_loss: 0.4033 - val_binary_accuracy: 0.8413\n",
            "Epoch 5/100\n",
            "30/30 [==============================] - 0s 14ms/step - loss: 0.3973 - binary_accuracy: 0.8435 - val_loss: 0.4068 - val_binary_accuracy: 0.8392\n",
            "Epoch 6/100\n",
            "30/30 [==============================] - 0s 14ms/step - loss: 0.3931 - binary_accuracy: 0.8442 - val_loss: 0.4121 - val_binary_accuracy: 0.8408\n",
            "Epoch 7/100\n",
            "30/30 [==============================] - 0s 15ms/step - loss: 0.3918 - binary_accuracy: 0.8448 - val_loss: 0.4063 - val_binary_accuracy: 0.8392\n",
            "Epoch 8/100\n",
            "30/30 [==============================] - 0s 15ms/step - loss: 0.3894 - binary_accuracy: 0.8464 - val_loss: 0.4147 - val_binary_accuracy: 0.8346\n",
            "Epoch 9/100\n",
            "30/30 [==============================] - 0s 15ms/step - loss: 0.3872 - binary_accuracy: 0.8457 - val_loss: 0.4119 - val_binary_accuracy: 0.8398\n",
            "Epoch 10/100\n",
            "30/30 [==============================] - 0s 15ms/step - loss: 0.3868 - binary_accuracy: 0.8483 - val_loss: 0.4121 - val_binary_accuracy: 0.8330\n",
            "Epoch 11/100\n",
            "30/30 [==============================] - 0s 14ms/step - loss: 0.3836 - binary_accuracy: 0.8461 - val_loss: 0.4173 - val_binary_accuracy: 0.8283\n"
          ]
        }
      ]
    },
    {
      "cell_type": "code",
      "source": [
        "predictions =(model.predict(X_test)>0.5).astype(\"int32\")\n",
        "              \n",
        "predictions"
      ],
      "metadata": {
        "colab": {
          "base_uri": "https://localhost:8080/"
        },
        "id": "_K-tPR2r4Rer",
        "outputId": "0a33acfe-05d3-4a21-bcb5-e090c549607c"
      },
      "execution_count": 230,
      "outputs": [
        {
          "output_type": "stream",
          "name": "stdout",
          "text": [
            "60/60 [==============================] - 0s 2ms/step\n"
          ]
        },
        {
          "output_type": "execute_result",
          "data": {
            "text/plain": [
              "array([[0],\n",
              "       [0],\n",
              "       [0],\n",
              "       ...,\n",
              "       [0],\n",
              "       [0],\n",
              "       [0]], dtype=int32)"
            ]
          },
          "metadata": {},
          "execution_count": 230
        }
      ]
    },
    {
      "cell_type": "code",
      "source": [
        "from sklearn.metrics import classification_report, confusion_matrix, accuracy_score\n",
        "accuracy_score(y_test, predictions)"
      ],
      "metadata": {
        "colab": {
          "base_uri": "https://localhost:8080/"
        },
        "id": "Z1iotA9q5Xlt",
        "outputId": "643fb52d-dc39-4e6d-cc2d-5a0a468f6ebb"
      },
      "execution_count": 231,
      "outputs": [
        {
          "output_type": "execute_result",
          "data": {
            "text/plain": [
              "0.8408141962421712"
            ]
          },
          "metadata": {},
          "execution_count": 231
        }
      ]
    },
    {
      "cell_type": "code",
      "source": [
        "print(classification_report(y_test, predictions))"
      ],
      "metadata": {
        "colab": {
          "base_uri": "https://localhost:8080/"
        },
        "id": "qep88Y9S99GH",
        "outputId": "13b1ca89-cfeb-4513-88a8-8e52ddac2d82"
      },
      "execution_count": 232,
      "outputs": [
        {
          "output_type": "stream",
          "name": "stdout",
          "text": [
            "              precision    recall  f1-score   support\n",
            "\n",
            "           0       0.84      1.00      0.91      1611\n",
            "           1       0.50      0.01      0.03       305\n",
            "\n",
            "    accuracy                           0.84      1916\n",
            "   macro avg       0.67      0.51      0.47      1916\n",
            "weighted avg       0.79      0.84      0.77      1916\n",
            "\n"
          ]
        }
      ]
    },
    {
      "cell_type": "code",
      "source": [
        "cn=confusion_matrix(y_test, predictions)\n",
        "sns.heatmap(cn)"
      ],
      "metadata": {
        "colab": {
          "base_uri": "https://localhost:8080/",
          "height": 451
        },
        "id": "ThHGRKO--AsG",
        "outputId": "a62acd0c-b2b1-432b-88e3-a86093c15b73"
      },
      "execution_count": 233,
      "outputs": [
        {
          "output_type": "execute_result",
          "data": {
            "text/plain": [
              "<Axes: >"
            ]
          },
          "metadata": {},
          "execution_count": 233
        },
        {
          "output_type": "display_data",
          "data": {
            "text/plain": [
              "<Figure size 640x480 with 2 Axes>"
            ],
            "image/png": "[encoded data removed]"
          },
          "metadata": {}
        }
      ]
    },
    {
      "cell_type": "code",
      "source": [
        "# Build random forest classifier\n",
        "rf_clf = RandomForestClassifier(n_estimators=500,\n",
        "                                max_features=0.25,\n",
        "                                criterion=\"entropy\",\n",
        "                                class_weight=\"balanced\")"
      ],
      "metadata": {
        "id": "KM_1shpB-I8i"
      },
      "execution_count": 234,
      "outputs": []
    },
    {
      "cell_type": "code",
      "source": [
        "rf_clf.fit(X_train,y_train)"
      ],
      "metadata": {
        "colab": {
          "base_uri": "https://localhost:8080/",
          "height": 92
        },
        "id": "TVOaY9xa-YP8",
        "outputId": "d5896b4a-c9a7-402d-f088-34599e6c6dd2"
      },
      "execution_count": 235,
      "outputs": [
        {
          "output_type": "execute_result",
          "data": {
            "text/plain": [
              "RandomForestClassifier(class_weight='balanced', criterion='entropy',\n",
              "                       max_features=0.25, n_estimators=500)"
            ],
            "text/html": [
              "<style>#sk-container-id-1 {color: black;background-color: white;}#sk-container-id-1 pre{padding: 0;}#sk-container-id-1 div.sk-toggleable {background-color: white;}#sk-container-id-1 label.sk-toggleable__label {cursor: pointer;display: block;width: 100%;margin-bottom: 0;padding: 0.3em;box-sizing: border-box;text-align: center;}#sk-container-id-1 label.sk-toggleable__label-arrow:before {content: \"▸\";float: left;margin-right: 0.25em;color: #696969;}#sk-container-id-1 label.sk-toggleable__label-arrow:hover:before {color: black;}#sk-container-id-1 div.sk-estimator:hover label.sk-toggleable__label-arrow:before {color: black;}#sk-container-id-1 div.sk-toggleable__content {max-height: 0;max-width: 0;overflow: hidden;text-align: left;background-color: #f0f8ff;}#sk-container-id-1 div.sk-toggleable__content pre {margin: 0.2em;color: black;border-radius: 0.25em;background-color: #f0f8ff;}#sk-container-id-1 input.sk-toggleable__control:checked~div.sk-toggleable__content {max-height: 200px;max-width: 100%;overflow: auto;}#sk-container-id-1 input.sk-toggleable__control:checked~label.sk-toggleable__label-arrow:before {content: \"▾\";}#sk-container-id-1 div.sk-estimator input.sk-toggleable__control:checked~label.sk-toggleable__label {background-color: #d4ebff;}#sk-container-id-1 div.sk-label input.sk-toggleable__control:checked~label.sk-toggleable__label {background-color: #d4ebff;}#sk-container-id-1 input.sk-hidden--visually {border: 0;clip: rect(1px 1px 1px 1px);clip: rect(1px, 1px, 1px, 1px);height: 1px;margin: -1px;overflow: hidden;padding: 0;position: absolute;width: 1px;}#sk-container-id-1 div.sk-estimator {font-family: monospace;background-color: #f0f8ff;border: 1px dotted black;border-radius: 0.25em;box-sizing: border-box;margin-bottom: 0.5em;}#sk-container-id-1 div.sk-estimator:hover {background-color: #d4ebff;}#sk-container-id-1 div.sk-parallel-item::after {content: \"\";width: 100%;border-bottom: 1px solid gray;flex-grow: 1;}#sk-container-id-1 div.sk-label:hover label.sk-toggleable__label {background-color: #d4ebff;}#sk-container-id-1 div.sk-serial::before {content: \"\";position: absolute;border-left: 1px solid gray;box-sizing: border-box;top: 0;bottom: 0;left: 50%;z-index: 0;}#sk-container-id-1 div.sk-serial {display: flex;flex-direction: column;align-items: center;background-color: white;padding-right: 0.2em;padding-left: 0.2em;position: relative;}#sk-container-id-1 div.sk-item {position: relative;z-index: 1;}#sk-container-id-1 div.sk-parallel {display: flex;align-items: stretch;justify-content: center;background-color: white;position: relative;}#sk-container-id-1 div.sk-item::before, #sk-container-id-1 div.sk-parallel-item::before {content: \"\";position: absolute;border-left: 1px solid gray;box-sizing: border-box;top: 0;bottom: 0;left: 50%;z-index: -1;}#sk-container-id-1 div.sk-parallel-item {display: flex;flex-direction: column;z-index: 1;position: relative;background-color: white;}#sk-container-id-1 div.sk-parallel-item:first-child::after {align-self: flex-end;width: 50%;}#sk-container-id-1 div.sk-parallel-item:last-child::after {align-self: flex-start;width: 50%;}#sk-container-id-1 div.sk-parallel-item:only-child::after {width: 0;}#sk-container-id-1 div.sk-dashed-wrapped {border: 1px dashed gray;margin: 0 0.4em 0.5em 0.4em;box-sizing: border-box;padding-bottom: 0.4em;background-color: white;}#sk-container-id-1 div.sk-label label {font-family: monospace;font-weight: bold;display: inline-block;line-height: 1.2em;}#sk-container-id-1 div.sk-label-container {text-align: center;}#sk-container-id-1 div.sk-container {/* jupyter's `normalize.less` sets `[hidden] { display: none; }` but bootstrap.min.css set `[hidden] { display: none !important; }` so we also need the `!important` here to be able to override the default hidden behavior on the sphinx rendered scikit-learn.org. See: https://github.com/scikit-learn/scikit-learn/issues/21755 */display: inline-block !important;position: relative;}#sk-container-id-1 div.sk-text-repr-fallback {display: none;}</style><div id=\"sk-container-id-1\" class=\"sk-top-container\"><div class=\"sk-text-repr-fallback\"><pre>RandomForestClassifier(class_weight=&#x27;balanced&#x27;, criterion=&#x27;entropy&#x27;,\n",
              "                       max_features=0.25, n_estimators=500)</pre><b>In a Jupyter environment, please rerun this cell to show the HTML representation or trust the notebook. <br />On GitHub, the HTML representation is unable to render, please try loading this page with nbviewer.org.</b></div><div class=\"sk-container\" hidden><div class=\"sk-item\"><div class=\"sk-estimator sk-toggleable\"><input class=\"sk-toggleable__control sk-hidden--visually\" id=\"sk-estimator-id-1\" type=\"checkbox\" checked><label for=\"sk-estimator-id-1\" class=\"sk-toggleable__label sk-toggleable__label-arrow\">RandomForestClassifier</label><div class=\"sk-toggleable__content\"><pre>RandomForestClassifier(class_weight=&#x27;balanced&#x27;, criterion=&#x27;entropy&#x27;,\n",
              "                       max_features=0.25, n_estimators=500)</pre></div></div></div></div></div>"
            ]
          },
          "metadata": {},
          "execution_count": 235
        }
      ]
    },
    {
      "cell_type": "code",
      "source": [
        "y_preds=rf_clf.predict(X_test)"
      ],
      "metadata": {
        "id": "7Z3B9aWf-rx7"
      },
      "execution_count": 236,
      "outputs": []
    },
    {
      "cell_type": "code",
      "source": [
        "rf_clf.score(X_test,y_test)"
      ],
      "metadata": {
        "colab": {
          "base_uri": "https://localhost:8080/"
        },
        "id": "Fw-NQTNQ-16q",
        "outputId": "7cc89b0e-614f-403a-b083-b296800ede18"
      },
      "execution_count": 238,
      "outputs": [
        {
          "output_type": "execute_result",
          "data": {
            "text/plain": [
              "0.8418580375782881"
            ]
          },
          "metadata": {},
          "execution_count": 238
        }
      ]
    },
    {
      "cell_type": "code",
      "source": [
        "print(classification_report(y_test,y_preds))"
      ],
      "metadata": {
        "colab": {
          "base_uri": "https://localhost:8080/"
        },
        "id": "Jz2ngcSL-9pV",
        "outputId": "a36e7bb3-59a7-4669-e357-dee0ae634a4c"
      },
      "execution_count": 241,
      "outputs": [
        {
          "output_type": "stream",
          "name": "stdout",
          "text": [
            "              precision    recall  f1-score   support\n",
            "\n",
            "           0       0.84      1.00      0.91      1611\n",
            "           1       0.67      0.01      0.03       305\n",
            "\n",
            "    accuracy                           0.84      1916\n",
            "   macro avg       0.75      0.51      0.47      1916\n",
            "weighted avg       0.81      0.84      0.77      1916\n",
            "\n"
          ]
        }
      ]
    },
    {
      "cell_type": "code",
      "source": [
        "print(confusion_matrix(y_test,y_preds))"
      ],
      "metadata": {
        "colab": {
          "base_uri": "https://localhost:8080/"
        },
        "id": "9Mkgp8ln_Ix7",
        "outputId": "21220b3f-aec0-4a4c-a741-fb27d50e9f99"
      },
      "execution_count": 242,
      "outputs": [
        {
          "output_type": "stream",
          "name": "stdout",
          "text": [
            "[[1609    2]\n",
            " [ 301    4]]\n"
          ]
        }
      ]
    },
    {
      "cell_type": "code",
      "source": [],
      "metadata": {
        "id": "Eit4LgYy_SzJ"
      },
      "execution_count": 252,
      "outputs": []
    },
    {
      "cell_type": "code",
      "source": [],
      "metadata": {
        "id": "_geDq_lQ_2vT"
      },
      "execution_count": null,
      "outputs": []
    }
  ]
}